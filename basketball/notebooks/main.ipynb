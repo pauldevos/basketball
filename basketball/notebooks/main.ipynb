{
 "cells": [
  {
   "cell_type": "code",
   "execution_count": 17,
   "metadata": {},
   "outputs": [],
   "source": [
    "from dataclasses import asdict, dataclass, field\n",
    "\n",
    "import requests\n",
    "\n",
    "HTTP_HEADERS = {\n",
    "    \"Accept\": \"application/json, text/plain, */*\",\n",
    "    \"Accept-Encoding\": \"gzip, deflate, br\",\n",
    "    \"Accept-Language\": \"en-US,en;q=0.9\",\n",
    "    \"Connection\": \"keep-alive\",\n",
    "    \"Host\": \"stats.nba.com\",\n",
    "    \"Origin\": \"https://www.nba.com\",\n",
    "    \"Referer\": \"https://www.nba.com/\",\n",
    "    \"Sec-Fetch-Dest\": \"empty\",\n",
    "    \"Sec-Fetch-Mode\": \"cors\",\n",
    "    \"Sec-Fetch-Site\": \"same-site\",\n",
    "    \"Sec-GPC\": \"1\",\n",
    "    \"User-Agent\": \"Mozilla/5.0 (Macintosh; Intel Mac OS X 10_15_7) AppleWebKit/537.36 (KHTML, like Gecko) Chrome/98.0.4758.102 Safari/537.36\",\n",
    "    \"x-nba-stats-origin\": \"stats\",\n",
    "    \"x-nba-stats-token\": \"true\",\n",
    "}\n",
    "\n",
    "BASE_URL = \"https://stats.nba.com/stats/\"\n",
    "\n",
    "\n",
    "class StatsHTTPHeader:\n",
    "\n",
    "    __base_url__ = \"https://stats.nba.com/stats/\"\n",
    "\n",
    "    headers = HTTP_HEADERS"
   ]
  },
  {
   "cell_type": "code",
   "execution_count": null,
   "metadata": {},
   "outputs": [],
   "source": []
  },
  {
   "cell_type": "code",
   "execution_count": 18,
   "metadata": {},
   "outputs": [],
   "source": [
    "class CommonallPlayers(StatsHTTPHeader):\n",
    "\n",
    "    __endpoint__ = \"CommonallPlayers\"\n",
    "\n",
    "\n",
    "    def __init__(\n",
    "        self,\n",
    "        IsOnlyCurrentSeason = 0,\n",
    "        LeagueID = \"00\",\n",
    "        Season = \"2021-22\",\n",
    "        headers = None\n",
    "    ) -> None:\n",
    "        # these first 3 attributes constitute the (#2) API Params\n",
    "        self.IsOnlyCurrentSeason = IsOnlyCurrentSeason\n",
    "        self.LeagueID = LeagueID\n",
    "        self.Season = Season\n",
    "        self.headers = headers if headers else HTTP_HEADERS\n",
    "        \n",
    "        "
   ]
  },
  {
   "cell_type": "code",
   "execution_count": 19,
   "metadata": {},
   "outputs": [],
   "source": [
    "p = CommonallPlayers(headers = {\"Accept\": \"at runtime\"})"
   ]
  },
  {
   "cell_type": "code",
   "execution_count": 20,
   "metadata": {},
   "outputs": [
    {
     "data": {
      "text/plain": [
       "{'Accept': 'at runtime'}"
      ]
     },
     "execution_count": 20,
     "metadata": {},
     "output_type": "execute_result"
    }
   ],
   "source": [
    "p.headers"
   ]
  },
  {
   "cell_type": "code",
   "execution_count": 7,
   "metadata": {},
   "outputs": [
    {
     "data": {
      "text/plain": [
       "{'Accept': 'new value',\n",
       " 'Accept-Encoding': 'gzip, deflate, br',\n",
       " 'Accept-Language': 'en-US,en;q=0.9',\n",
       " 'Connection': 'keep-alive',\n",
       " 'Host': 'stats.nba.com',\n",
       " 'Origin': 'https://www.nba.com',\n",
       " 'Referer': 'https://www.nba.com/',\n",
       " 'Sec-Fetch-Dest': 'empty',\n",
       " 'Sec-Fetch-Mode': 'cors',\n",
       " 'Sec-Fetch-Site': 'same-site',\n",
       " 'Sec-GPC': '1',\n",
       " 'User-Agent': 'Mozilla/5.0 (Macintosh; Intel Mac OS X 10_15_7) AppleWebKit/537.36 (KHTML, like Gecko) Chrome/98.0.4758.102 Safari/537.36',\n",
       " 'x-nba-stats-origin': 'stats',\n",
       " 'x-nba-stats-token': 'true'}"
      ]
     },
     "execution_count": 7,
     "metadata": {},
     "output_type": "execute_result"
    }
   ],
   "source": [
    "p.headers"
   ]
  },
  {
   "cell_type": "code",
   "execution_count": 8,
   "metadata": {},
   "outputs": [],
   "source": [
    "p.Season = \"2000-01\""
   ]
  },
  {
   "cell_type": "code",
   "execution_count": 12,
   "metadata": {},
   "outputs": [
    {
     "data": {
      "text/plain": [
       "{'IsOnlyCurrentSeason': 0, 'LeagueID': '00', 'Season': '2000-01'}"
      ]
     },
     "execution_count": 12,
     "metadata": {},
     "output_type": "execute_result"
    }
   ],
   "source": [
    "p.__dict__"
   ]
  },
  {
   "cell_type": "code",
   "execution_count": 13,
   "metadata": {},
   "outputs": [
    {
     "data": {
      "text/plain": [
       "'CommonallPlayers'"
      ]
     },
     "execution_count": 13,
     "metadata": {},
     "output_type": "execute_result"
    }
   ],
   "source": [
    "p.__endpoint__"
   ]
  },
  {
   "cell_type": "code",
   "execution_count": 34,
   "metadata": {},
   "outputs": [],
   "source": [
    "@dataclass\n",
    "class Data:\n",
    "    name: str\n",
    "    additional: int\n",
    "    things: int\n",
    "\n",
    "    def __init__(self, name: str = 'Unnamed', additional: int = None, things: int = None, **kwargs):\n",
    "        for key, value in kwargs.items():\n",
    "            setattr(self, key, value)"
   ]
  },
  {
   "cell_type": "code",
   "execution_count": 35,
   "metadata": {},
   "outputs": [
    {
     "ename": "AttributeError",
     "evalue": "'Data' object has no attribute 'name'",
     "output_type": "error",
     "traceback": [
      "\u001b[0;31m---------------------------------------------------------------------------\u001b[0m",
      "\u001b[0;31mAttributeError\u001b[0m                            Traceback (most recent call last)",
      "File \u001b[0;32m~/.pyenv/versions/3.10.2/lib/python3.10/site-packages/IPython/core/formatters.py:707\u001b[0m, in \u001b[0;36mPlainTextFormatter.__call__\u001b[0;34m(self, obj)\u001b[0m\n\u001b[1;32m    <a href='file:///Users/devos/.pyenv/versions/3.10.2/lib/python3.10/site-packages/IPython/core/formatters.py?line=699'>700</a>\u001b[0m stream \u001b[39m=\u001b[39m StringIO()\n\u001b[1;32m    <a href='file:///Users/devos/.pyenv/versions/3.10.2/lib/python3.10/site-packages/IPython/core/formatters.py?line=700'>701</a>\u001b[0m printer \u001b[39m=\u001b[39m pretty\u001b[39m.\u001b[39mRepresentationPrinter(stream, \u001b[39mself\u001b[39m\u001b[39m.\u001b[39mverbose,\n\u001b[1;32m    <a href='file:///Users/devos/.pyenv/versions/3.10.2/lib/python3.10/site-packages/IPython/core/formatters.py?line=701'>702</a>\u001b[0m     \u001b[39mself\u001b[39m\u001b[39m.\u001b[39mmax_width, \u001b[39mself\u001b[39m\u001b[39m.\u001b[39mnewline,\n\u001b[1;32m    <a href='file:///Users/devos/.pyenv/versions/3.10.2/lib/python3.10/site-packages/IPython/core/formatters.py?line=702'>703</a>\u001b[0m     max_seq_length\u001b[39m=\u001b[39m\u001b[39mself\u001b[39m\u001b[39m.\u001b[39mmax_seq_length,\n\u001b[1;32m    <a href='file:///Users/devos/.pyenv/versions/3.10.2/lib/python3.10/site-packages/IPython/core/formatters.py?line=703'>704</a>\u001b[0m     singleton_pprinters\u001b[39m=\u001b[39m\u001b[39mself\u001b[39m\u001b[39m.\u001b[39msingleton_printers,\n\u001b[1;32m    <a href='file:///Users/devos/.pyenv/versions/3.10.2/lib/python3.10/site-packages/IPython/core/formatters.py?line=704'>705</a>\u001b[0m     type_pprinters\u001b[39m=\u001b[39m\u001b[39mself\u001b[39m\u001b[39m.\u001b[39mtype_printers,\n\u001b[1;32m    <a href='file:///Users/devos/.pyenv/versions/3.10.2/lib/python3.10/site-packages/IPython/core/formatters.py?line=705'>706</a>\u001b[0m     deferred_pprinters\u001b[39m=\u001b[39m\u001b[39mself\u001b[39m\u001b[39m.\u001b[39mdeferred_printers)\n\u001b[0;32m--> <a href='file:///Users/devos/.pyenv/versions/3.10.2/lib/python3.10/site-packages/IPython/core/formatters.py?line=706'>707</a>\u001b[0m printer\u001b[39m.\u001b[39;49mpretty(obj)\n\u001b[1;32m    <a href='file:///Users/devos/.pyenv/versions/3.10.2/lib/python3.10/site-packages/IPython/core/formatters.py?line=707'>708</a>\u001b[0m printer\u001b[39m.\u001b[39mflush()\n\u001b[1;32m    <a href='file:///Users/devos/.pyenv/versions/3.10.2/lib/python3.10/site-packages/IPython/core/formatters.py?line=708'>709</a>\u001b[0m \u001b[39mreturn\u001b[39;00m stream\u001b[39m.\u001b[39mgetvalue()\n",
      "File \u001b[0;32m~/.pyenv/versions/3.10.2/lib/python3.10/site-packages/IPython/lib/pretty.py:410\u001b[0m, in \u001b[0;36mRepresentationPrinter.pretty\u001b[0;34m(self, obj)\u001b[0m\n\u001b[1;32m    <a href='file:///Users/devos/.pyenv/versions/3.10.2/lib/python3.10/site-packages/IPython/lib/pretty.py?line=406'>407</a>\u001b[0m                         \u001b[39mreturn\u001b[39;00m meth(obj, \u001b[39mself\u001b[39m, cycle)\n\u001b[1;32m    <a href='file:///Users/devos/.pyenv/versions/3.10.2/lib/python3.10/site-packages/IPython/lib/pretty.py?line=407'>408</a>\u001b[0m                 \u001b[39mif\u001b[39;00m \u001b[39mcls\u001b[39m \u001b[39mis\u001b[39;00m \u001b[39mnot\u001b[39;00m \u001b[39mobject\u001b[39m \\\n\u001b[1;32m    <a href='file:///Users/devos/.pyenv/versions/3.10.2/lib/python3.10/site-packages/IPython/lib/pretty.py?line=408'>409</a>\u001b[0m                         \u001b[39mand\u001b[39;00m callable(\u001b[39mcls\u001b[39m\u001b[39m.\u001b[39m\u001b[39m__dict__\u001b[39m\u001b[39m.\u001b[39mget(\u001b[39m'\u001b[39m\u001b[39m__repr__\u001b[39m\u001b[39m'\u001b[39m)):\n\u001b[0;32m--> <a href='file:///Users/devos/.pyenv/versions/3.10.2/lib/python3.10/site-packages/IPython/lib/pretty.py?line=409'>410</a>\u001b[0m                     \u001b[39mreturn\u001b[39;00m _repr_pprint(obj, \u001b[39mself\u001b[39;49m, cycle)\n\u001b[1;32m    <a href='file:///Users/devos/.pyenv/versions/3.10.2/lib/python3.10/site-packages/IPython/lib/pretty.py?line=411'>412</a>\u001b[0m     \u001b[39mreturn\u001b[39;00m _default_pprint(obj, \u001b[39mself\u001b[39m, cycle)\n\u001b[1;32m    <a href='file:///Users/devos/.pyenv/versions/3.10.2/lib/python3.10/site-packages/IPython/lib/pretty.py?line=412'>413</a>\u001b[0m \u001b[39mfinally\u001b[39;00m:\n",
      "File \u001b[0;32m~/.pyenv/versions/3.10.2/lib/python3.10/site-packages/IPython/lib/pretty.py:778\u001b[0m, in \u001b[0;36m_repr_pprint\u001b[0;34m(obj, p, cycle)\u001b[0m\n\u001b[1;32m    <a href='file:///Users/devos/.pyenv/versions/3.10.2/lib/python3.10/site-packages/IPython/lib/pretty.py?line=775'>776</a>\u001b[0m \u001b[39m\"\"\"A pprint that just redirects to the normal repr function.\"\"\"\u001b[39;00m\n\u001b[1;32m    <a href='file:///Users/devos/.pyenv/versions/3.10.2/lib/python3.10/site-packages/IPython/lib/pretty.py?line=776'>777</a>\u001b[0m \u001b[39m# Find newlines and replace them with p.break_()\u001b[39;00m\n\u001b[0;32m--> <a href='file:///Users/devos/.pyenv/versions/3.10.2/lib/python3.10/site-packages/IPython/lib/pretty.py?line=777'>778</a>\u001b[0m output \u001b[39m=\u001b[39m \u001b[39mrepr\u001b[39;49m(obj)\n\u001b[1;32m    <a href='file:///Users/devos/.pyenv/versions/3.10.2/lib/python3.10/site-packages/IPython/lib/pretty.py?line=778'>779</a>\u001b[0m lines \u001b[39m=\u001b[39m output\u001b[39m.\u001b[39msplitlines()\n\u001b[1;32m    <a href='file:///Users/devos/.pyenv/versions/3.10.2/lib/python3.10/site-packages/IPython/lib/pretty.py?line=779'>780</a>\u001b[0m \u001b[39mwith\u001b[39;00m p\u001b[39m.\u001b[39mgroup():\n",
      "File \u001b[0;32m~/.pyenv/versions/3.10.2/lib/python3.10/dataclasses.py:405\u001b[0m, in \u001b[0;36m_recursive_repr.<locals>.wrapper\u001b[0;34m(self)\u001b[0m\n\u001b[1;32m    <a href='file:///Users/devos/.pyenv/versions/3.10.2/lib/python3.10/dataclasses.py?line=402'>403</a>\u001b[0m repr_running\u001b[39m.\u001b[39madd(key)\n\u001b[1;32m    <a href='file:///Users/devos/.pyenv/versions/3.10.2/lib/python3.10/dataclasses.py?line=403'>404</a>\u001b[0m \u001b[39mtry\u001b[39;00m:\n\u001b[0;32m--> <a href='file:///Users/devos/.pyenv/versions/3.10.2/lib/python3.10/dataclasses.py?line=404'>405</a>\u001b[0m     result \u001b[39m=\u001b[39m user_function(\u001b[39mself\u001b[39;49m)\n\u001b[1;32m    <a href='file:///Users/devos/.pyenv/versions/3.10.2/lib/python3.10/dataclasses.py?line=405'>406</a>\u001b[0m \u001b[39mfinally\u001b[39;00m:\n\u001b[1;32m    <a href='file:///Users/devos/.pyenv/versions/3.10.2/lib/python3.10/dataclasses.py?line=406'>407</a>\u001b[0m     repr_running\u001b[39m.\u001b[39mdiscard(key)\n",
      "File \u001b[0;32m<string>:3\u001b[0m, in \u001b[0;36m__repr__\u001b[0;34m(self)\u001b[0m\n",
      "\u001b[0;31mAttributeError\u001b[0m: 'Data' object has no attribute 'name'"
     ]
    }
   ],
   "source": [
    "Data()"
   ]
  },
  {
   "cell_type": "code",
   "execution_count": null,
   "metadata": {},
   "outputs": [],
   "source": []
  },
  {
   "cell_type": "code",
   "execution_count": null,
   "metadata": {},
   "outputs": [],
   "source": []
  }
 ],
 "metadata": {
  "interpreter": {
   "hash": "4d9907460f6fc1907b3b524742bdd2754ed7c9071240f1599f03619d5bf0fadc"
  },
  "kernelspec": {
   "display_name": "Python 3.10.2 64-bit ('3.10.2')",
   "language": "python",
   "name": "python3"
  },
  "language_info": {
   "codemirror_mode": {
    "name": "ipython",
    "version": 3
   },
   "file_extension": ".py",
   "mimetype": "text/x-python",
   "name": "python",
   "nbconvert_exporter": "python",
   "pygments_lexer": "ipython3",
   "version": "3.10.2"
  },
  "orig_nbformat": 4
 },
 "nbformat": 4,
 "nbformat_minor": 2
}
