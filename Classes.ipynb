{
 "cells": [
  {
   "cell_type": "code",
   "execution_count": 1,
   "id": "228d2128",
   "metadata": {},
   "outputs": [],
   "source": [
    "from abc import ABC\n",
    "from copy import deepcopy\n",
    "from dataclasses import dataclass, field"
   ]
  },
  {
   "cell_type": "code",
   "execution_count": 20,
   "id": "3cdf55ae",
   "metadata": {},
   "outputs": [],
   "source": [
    "HTTP_HEADERS = {\n",
    "    \"Accept\": \"application/json, text/plain, */*\",\n",
    "    \"Accept-Encoding\": \"gzip, deflate, br\",\n",
    "    \"Accept-Language\": \"en-US,en;q=0.9\",\n",
    "    \"Connection\": \"keep-alive\",\n",
    "    \"Host\": \"stats.nba.com\",\n",
    "    \"Origin\": \"https://www.nba.com\",\n",
    "    \"Referer\": \"https://www.nba.com/\",\n",
    "    \"Sec-Fetch-Dest\": \"empty\",\n",
    "    \"Sec-Fetch-Mode\": \"cors\",\n",
    "    \"Sec-Fetch-Site\": \"same-site\",\n",
    "    \"Sec-GPC\": \"1\",\n",
    "    \"User-Agent\": \"Mozilla/5.0 (Macintosh; Intel Mac OS X 10_15_7) AppleWebKit/537.36 (KHTML, like Gecko) Chrome/98.0.4758.102 Safari/537.36\",\n",
    "    \"x-nba-stats-origin\": \"stats\",\n",
    "    \"x-nba-stats-token\": \"true\",\n",
    "}\n"
   ]
  },
  {
   "cell_type": "code",
   "execution_count": 6,
   "id": "7e4ed15b",
   "metadata": {},
   "outputs": [],
   "source": [
    "class CommonallPlayers_2:\n",
    "    \n",
    "    def __init__(\n",
    "        self,\n",
    "        IsOnlyCurrentSeason=0,\n",
    "        LeagueID=\"00\",\n",
    "        Season=\"2021-22\",\n",
    "        headers = None) -> None:\n",
    "        \n",
    "        self.IsOnlyCurrentSeason = IsOnlyCurrentSeason\n",
    "        self.LeagueID = LeagueID\n",
    "        self.Season = Season\n",
    "        self.headers = headers if headers else HTTP_HEADERS\n",
    "\n",
    "    def return_http(self):\n",
    "        return self.headers"
   ]
  },
  {
   "cell_type": "code",
   "execution_count": 27,
   "id": "1f93b3ef",
   "metadata": {},
   "outputs": [
    {
     "data": {
      "text/plain": [
       "<__main__.CommonallPlayers_2 at 0x1044cb6d0>"
      ]
     },
     "execution_count": 27,
     "metadata": {},
     "output_type": "execute_result"
    }
   ],
   "source": [
    "c = CommonallPlayers_2()\n",
    "\n",
    "c"
   ]
  },
  {
   "cell_type": "code",
   "execution_count": 28,
   "id": "1a65b1f5",
   "metadata": {},
   "outputs": [
    {
     "name": "stdout",
     "output_type": "stream",
     "text": [
      "{'IsOnlyCurrentSeason': 0, 'LeagueID': '00', 'Season': '2021-22', 'headers': {'Accept': 'application/json, text/plain, */*', 'Accept-Encoding': 'gzip, deflate, br', 'Accept-Language': 'en-US,en;q=0.9', 'Connection': 'keep-alive', 'Host': 'stats.nba.com', 'Origin': 'https://www.nba.com', 'Referer': 'https://www.nba.com/', 'Sec-Fetch-Dest': 'empty', 'Sec-Fetch-Mode': 'cors', 'Sec-Fetch-Site': 'same-site', 'Sec-GPC': '1', 'User-Agent': 'Mozilla/5.0 (Macintosh; Intel Mac OS X 10_15_7) AppleWebKit/537.36 (KHTML, like Gecko) Chrome/98.0.4758.102 Safari/537.36', 'x-nba-stats-origin': 'stats', 'x-nba-stats-token': 'true'}}\n"
     ]
    }
   ],
   "source": [
    "print(c.__dict__)"
   ]
  },
  {
   "cell_type": "code",
   "execution_count": 29,
   "id": "0cb2deb4",
   "metadata": {},
   "outputs": [
    {
     "data": {
      "text/plain": [
       "{'Accept': 'application/json, text/plain, */*',\n",
       " 'Accept-Encoding': 'gzip, deflate, br',\n",
       " 'Accept-Language': 'en-US,en;q=0.9',\n",
       " 'Connection': 'keep-alive',\n",
       " 'Host': 'stats.nba.com',\n",
       " 'Origin': 'https://www.nba.com',\n",
       " 'Referer': 'https://www.nba.com/',\n",
       " 'Sec-Fetch-Dest': 'empty',\n",
       " 'Sec-Fetch-Mode': 'cors',\n",
       " 'Sec-Fetch-Site': 'same-site',\n",
       " 'Sec-GPC': '1',\n",
       " 'User-Agent': 'Mozilla/5.0 (Macintosh; Intel Mac OS X 10_15_7) AppleWebKit/537.36 (KHTML, like Gecko) Chrome/98.0.4758.102 Safari/537.36',\n",
       " 'x-nba-stats-origin': 'stats',\n",
       " 'x-nba-stats-token': 'true'}"
      ]
     },
     "execution_count": 29,
     "metadata": {},
     "output_type": "execute_result"
    }
   ],
   "source": [
    "c.return_http()"
   ]
  },
  {
   "cell_type": "code",
   "execution_count": 10,
   "id": "a3dde4f1",
   "metadata": {},
   "outputs": [],
   "source": [
    "c.headers['Accept'] = \"new value\""
   ]
  },
  {
   "cell_type": "code",
   "execution_count": 30,
   "id": "4d2f60bf",
   "metadata": {},
   "outputs": [
    {
     "data": {
      "text/plain": [
       "{'Accept': 'application/json, text/plain, */*',\n",
       " 'Accept-Encoding': 'gzip, deflate, br',\n",
       " 'Accept-Language': 'en-US,en;q=0.9',\n",
       " 'Connection': 'keep-alive',\n",
       " 'Host': 'stats.nba.com',\n",
       " 'Origin': 'https://www.nba.com',\n",
       " 'Referer': 'https://www.nba.com/',\n",
       " 'Sec-Fetch-Dest': 'empty',\n",
       " 'Sec-Fetch-Mode': 'cors',\n",
       " 'Sec-Fetch-Site': 'same-site',\n",
       " 'Sec-GPC': '1',\n",
       " 'User-Agent': 'Mozilla/5.0 (Macintosh; Intel Mac OS X 10_15_7) AppleWebKit/537.36 (KHTML, like Gecko) Chrome/98.0.4758.102 Safari/537.36',\n",
       " 'x-nba-stats-origin': 'stats',\n",
       " 'x-nba-stats-token': 'true'}"
      ]
     },
     "execution_count": 30,
     "metadata": {},
     "output_type": "execute_result"
    }
   ],
   "source": [
    "c.headers"
   ]
  },
  {
   "cell_type": "code",
   "execution_count": 12,
   "id": "2f8c2ba7",
   "metadata": {},
   "outputs": [],
   "source": [
    "# del c"
   ]
  },
  {
   "cell_type": "code",
   "execution_count": 32,
   "id": "4abc14c7",
   "metadata": {},
   "outputs": [],
   "source": [
    "@dataclass\n",
    "class CommonallPlayers:\n",
    "    IsOnlyCurrentSeason: int = 0\n",
    "    LeagueID: str = \"00\"\n",
    "    Season: str = \"2021-22\"\n",
    "    headers: dict = field(default_factory=dict)\n",
    "    \n",
    "    def __post_init__(self):\n",
    "        if self.headers:\n",
    "            self.headers = headers\n",
    "        else:\n",
    "            self.headers = dict(HTTP_HEADERS)\n",
    "\n",
    "    def return_http(self):\n",
    "        return self.headers"
   ]
  },
  {
   "cell_type": "code",
   "execution_count": 33,
   "id": "bbcc8faf",
   "metadata": {},
   "outputs": [
    {
     "data": {
      "text/plain": [
       "CommonallPlayers(IsOnlyCurrentSeason=0, LeagueID='00', Season='2021-22', headers={'Accept': 'application/json, text/plain, */*', 'Accept-Encoding': 'gzip, deflate, br', 'Accept-Language': 'en-US,en;q=0.9', 'Connection': 'keep-alive', 'Host': 'stats.nba.com', 'Origin': 'https://www.nba.com', 'Referer': 'https://www.nba.com/', 'Sec-Fetch-Dest': 'empty', 'Sec-Fetch-Mode': 'cors', 'Sec-Fetch-Site': 'same-site', 'Sec-GPC': '1', 'User-Agent': 'Mozilla/5.0 (Macintosh; Intel Mac OS X 10_15_7) AppleWebKit/537.36 (KHTML, like Gecko) Chrome/98.0.4758.102 Safari/537.36', 'x-nba-stats-origin': 'stats', 'x-nba-stats-token': 'true'})"
      ]
     },
     "execution_count": 33,
     "metadata": {},
     "output_type": "execute_result"
    }
   ],
   "source": [
    "e = CommonallPlayers()\n",
    "\n",
    "e"
   ]
  },
  {
   "cell_type": "code",
   "execution_count": 34,
   "id": "7d4d4072",
   "metadata": {},
   "outputs": [
    {
     "data": {
      "text/plain": [
       "{'Accept': 'application/json, text/plain, */*',\n",
       " 'Accept-Encoding': 'gzip, deflate, br',\n",
       " 'Accept-Language': 'en-US,en;q=0.9',\n",
       " 'Connection': 'keep-alive',\n",
       " 'Host': 'stats.nba.com',\n",
       " 'Origin': 'https://www.nba.com',\n",
       " 'Referer': 'https://www.nba.com/',\n",
       " 'Sec-Fetch-Dest': 'empty',\n",
       " 'Sec-Fetch-Mode': 'cors',\n",
       " 'Sec-Fetch-Site': 'same-site',\n",
       " 'Sec-GPC': '1',\n",
       " 'User-Agent': 'Mozilla/5.0 (Macintosh; Intel Mac OS X 10_15_7) AppleWebKit/537.36 (KHTML, like Gecko) Chrome/98.0.4758.102 Safari/537.36',\n",
       " 'x-nba-stats-origin': 'stats',\n",
       " 'x-nba-stats-token': 'true'}"
      ]
     },
     "execution_count": 34,
     "metadata": {},
     "output_type": "execute_result"
    }
   ],
   "source": [
    "e.headers"
   ]
  },
  {
   "cell_type": "code",
   "execution_count": 25,
   "id": "4dfbea5b",
   "metadata": {},
   "outputs": [],
   "source": [
    "e.headers['Accept'] = \"changing the value back using e instance\""
   ]
  },
  {
   "cell_type": "code",
   "execution_count": 26,
   "id": "55ed1a14",
   "metadata": {},
   "outputs": [
    {
     "data": {
      "text/plain": [
       "{'Accept': 'changing the value back using e instance',\n",
       " 'Accept-Encoding': 'gzip, deflate, br',\n",
       " 'Accept-Language': 'en-US,en;q=0.9',\n",
       " 'Connection': 'keep-alive',\n",
       " 'Host': 'stats.nba.com',\n",
       " 'Origin': 'https://www.nba.com',\n",
       " 'Referer': 'https://www.nba.com/',\n",
       " 'Sec-Fetch-Dest': 'empty',\n",
       " 'Sec-Fetch-Mode': 'cors',\n",
       " 'Sec-Fetch-Site': 'same-site',\n",
       " 'Sec-GPC': '1',\n",
       " 'User-Agent': 'Mozilla/5.0 (Macintosh; Intel Mac OS X 10_15_7) AppleWebKit/537.36 (KHTML, like Gecko) Chrome/98.0.4758.102 Safari/537.36',\n",
       " 'x-nba-stats-origin': 'stats',\n",
       " 'x-nba-stats-token': 'true'}"
      ]
     },
     "execution_count": 26,
     "metadata": {},
     "output_type": "execute_result"
    }
   ],
   "source": [
    "c.headers"
   ]
  },
  {
   "cell_type": "code",
   "execution_count": null,
   "id": "5eb34734",
   "metadata": {},
   "outputs": [],
   "source": []
  },
  {
   "cell_type": "code",
   "execution_count": null,
   "id": "c518539e",
   "metadata": {},
   "outputs": [],
   "source": []
  },
  {
   "cell_type": "code",
   "execution_count": 37,
   "id": "df464070",
   "metadata": {},
   "outputs": [],
   "source": [
    "c.__class_dict__['key'] = \"new_value\""
   ]
  },
  {
   "cell_type": "code",
   "execution_count": 38,
   "id": "77ba2343",
   "metadata": {},
   "outputs": [
    {
     "data": {
      "text/plain": [
       "<__main__.CommonallPlayers at 0x105d44520>"
      ]
     },
     "execution_count": 38,
     "metadata": {},
     "output_type": "execute_result"
    }
   ],
   "source": [
    "c"
   ]
  },
  {
   "cell_type": "code",
   "execution_count": 39,
   "id": "4593a672",
   "metadata": {},
   "outputs": [
    {
     "data": {
      "text/plain": [
       "{'IsOnlyCurrentSeason': 0, 'LeagueID': '00', 'Season': '2021-22'}"
      ]
     },
     "execution_count": 39,
     "metadata": {},
     "output_type": "execute_result"
    }
   ],
   "source": [
    "c.__dict__"
   ]
  },
  {
   "cell_type": "code",
   "execution_count": 40,
   "id": "31119cd8",
   "metadata": {},
   "outputs": [
    {
     "data": {
      "text/plain": [
       "{'key': 'new_value'}"
      ]
     },
     "execution_count": 40,
     "metadata": {},
     "output_type": "execute_result"
    }
   ],
   "source": [
    "c.__class_dict__"
   ]
  },
  {
   "cell_type": "code",
   "execution_count": 41,
   "id": "8beb5e57",
   "metadata": {},
   "outputs": [],
   "source": [
    "c.__class_dict_copy__['c-instance-key'] = 'c-instance-value'"
   ]
  },
  {
   "cell_type": "code",
   "execution_count": 42,
   "id": "cdadd33b",
   "metadata": {},
   "outputs": [
    {
     "data": {
      "text/plain": [
       "{'c-instance-key': 'c-instance-value'}"
      ]
     },
     "execution_count": 42,
     "metadata": {},
     "output_type": "execute_result"
    }
   ],
   "source": [
    "c.__class_dict_copy__"
   ]
  },
  {
   "cell_type": "code",
   "execution_count": 43,
   "id": "a1c45be9",
   "metadata": {},
   "outputs": [],
   "source": [
    "my_dict = dict(old_value=\"old old old value\")"
   ]
  },
  {
   "cell_type": "code",
   "execution_count": 44,
   "id": "b03cd680",
   "metadata": {},
   "outputs": [
    {
     "data": {
      "text/plain": [
       "{'old_value': 'old old old value'}"
      ]
     },
     "execution_count": 44,
     "metadata": {},
     "output_type": "execute_result"
    }
   ],
   "source": [
    "my_dict"
   ]
  },
  {
   "cell_type": "code",
   "execution_count": null,
   "id": "6a6f7799",
   "metadata": {},
   "outputs": [],
   "source": []
  },
  {
   "cell_type": "code",
   "execution_count": null,
   "id": "86470f5f",
   "metadata": {},
   "outputs": [],
   "source": []
  },
  {
   "cell_type": "code",
   "execution_count": 45,
   "id": "f1d68602",
   "metadata": {},
   "outputs": [
    {
     "data": {
      "text/plain": [
       "{'IsOnlyCurrentSeason': 0, 'LeagueID': '00', 'Season': '1999-00'}"
      ]
     },
     "execution_count": 45,
     "metadata": {},
     "output_type": "execute_result"
    }
   ],
   "source": [
    "d = CommonallPlayers(Season='1999-00')\n",
    "\n",
    "d.__dict__\n"
   ]
  },
  {
   "cell_type": "code",
   "execution_count": 46,
   "id": "f666b738",
   "metadata": {},
   "outputs": [
    {
     "data": {
      "text/plain": [
       "{'key': 'new_value'}"
      ]
     },
     "execution_count": 46,
     "metadata": {},
     "output_type": "execute_result"
    }
   ],
   "source": [
    "d.__class_dict__"
   ]
  },
  {
   "cell_type": "code",
   "execution_count": 47,
   "id": "6fd7eb86",
   "metadata": {},
   "outputs": [],
   "source": [
    "d.__class_dict_copy__['d-instance-key'] = 'd-instance-value'"
   ]
  },
  {
   "cell_type": "code",
   "execution_count": 48,
   "id": "d7490852",
   "metadata": {},
   "outputs": [
    {
     "data": {
      "text/plain": [
       "{'c-instance-key': 'c-instance-value', 'd-instance-key': 'd-instance-value'}"
      ]
     },
     "execution_count": 48,
     "metadata": {},
     "output_type": "execute_result"
    }
   ],
   "source": [
    "d.__class_dict_copy__"
   ]
  },
  {
   "cell_type": "code",
   "execution_count": 50,
   "id": "5f631741",
   "metadata": {},
   "outputs": [
    {
     "data": {
      "text/plain": [
       "({'key': 'new_value'}, {'key': 'new_value'})"
      ]
     },
     "execution_count": 50,
     "metadata": {},
     "output_type": "execute_result"
    }
   ],
   "source": [
    "d.__class_dict__, c.__class_dict__"
   ]
  },
  {
   "cell_type": "code",
   "execution_count": 51,
   "id": "6222e25d",
   "metadata": {},
   "outputs": [],
   "source": [
    "d.__class_dict__['key_assigned_in_d'] = \"value in d\""
   ]
  },
  {
   "cell_type": "code",
   "execution_count": 52,
   "id": "17456a44",
   "metadata": {},
   "outputs": [
    {
     "data": {
      "text/plain": [
       "{'key': 'new_value', 'key_assigned_in_d': 'value in d'}"
      ]
     },
     "execution_count": 52,
     "metadata": {},
     "output_type": "execute_result"
    }
   ],
   "source": [
    "c.__class_dict__"
   ]
  },
  {
   "cell_type": "code",
   "execution_count": null,
   "id": "4407a88f",
   "metadata": {},
   "outputs": [],
   "source": []
  },
  {
   "cell_type": "code",
   "execution_count": 53,
   "id": "83bba87c",
   "metadata": {},
   "outputs": [],
   "source": [
    "class Foo:\n",
    "    def __init__(self, values = None):\n",
    "        self.values = values or dict()"
   ]
  },
  {
   "cell_type": "code",
   "execution_count": 55,
   "id": "05757fe0",
   "metadata": {},
   "outputs": [],
   "source": [
    "a = Foo()\n",
    "b = Foo(values={\"b_key\": \"b_value\"})"
   ]
  },
  {
   "cell_type": "code",
   "execution_count": 57,
   "id": "e0c97677",
   "metadata": {},
   "outputs": [
    {
     "data": {
      "text/plain": [
       "{}"
      ]
     },
     "execution_count": 57,
     "metadata": {},
     "output_type": "execute_result"
    }
   ],
   "source": [
    "a.values"
   ]
  },
  {
   "cell_type": "code",
   "execution_count": 58,
   "id": "e30b11bd",
   "metadata": {},
   "outputs": [
    {
     "data": {
      "text/plain": [
       "{'b_key': 'b_value'}"
      ]
     },
     "execution_count": 58,
     "metadata": {},
     "output_type": "execute_result"
    }
   ],
   "source": [
    "b.values"
   ]
  },
  {
   "cell_type": "code",
   "execution_count": 60,
   "id": "879f0e58",
   "metadata": {},
   "outputs": [],
   "source": [
    "a.values = {\"a_key\": \"a_value\"}"
   ]
  },
  {
   "cell_type": "code",
   "execution_count": 62,
   "id": "174dec4c",
   "metadata": {},
   "outputs": [
    {
     "data": {
      "text/plain": [
       "{'a_key': 'a_value'}"
      ]
     },
     "execution_count": 62,
     "metadata": {},
     "output_type": "execute_result"
    }
   ],
   "source": [
    "a.values"
   ]
  },
  {
   "cell_type": "code",
   "execution_count": 63,
   "id": "5d9cbdf2",
   "metadata": {},
   "outputs": [
    {
     "data": {
      "text/plain": [
       "{'b_key': 'b_value'}"
      ]
     },
     "execution_count": 63,
     "metadata": {},
     "output_type": "execute_result"
    }
   ],
   "source": [
    "b.values"
   ]
  },
  {
   "cell_type": "code",
   "execution_count": 70,
   "id": "f0d98ebb",
   "metadata": {},
   "outputs": [],
   "source": [
    "class MyDictClass(dict):\n",
    "    def __init__(self, **kwargs):\n",
    "        self.__dict__.update(kwargs)"
   ]
  },
  {
   "cell_type": "code",
   "execution_count": 74,
   "id": "02568751",
   "metadata": {},
   "outputs": [],
   "source": [
    "m = MyDictClass(**HTTP_HEADERS)"
   ]
  },
  {
   "cell_type": "code",
   "execution_count": 76,
   "id": "3b40bd7c",
   "metadata": {},
   "outputs": [
    {
     "data": {
      "text/plain": [
       "{'Accept': 'application/json, text/plain, */*',\n",
       " 'Accept-Encoding': 'gzip, deflate, br',\n",
       " 'Accept-Language': 'en-US,en;q=0.9',\n",
       " 'Connection': 'keep-alive',\n",
       " 'Host': 'stats.nba.com',\n",
       " 'Origin': 'https://www.nba.com',\n",
       " 'Referer': 'https://www.nba.com/',\n",
       " 'Sec-Fetch-Dest': 'empty',\n",
       " 'Sec-Fetch-Mode': 'cors',\n",
       " 'Sec-Fetch-Site': 'same-site',\n",
       " 'Sec-GPC': '1',\n",
       " 'User-Agent': 'Mozilla/5.0 (Macintosh; Intel Mac OS X 10_15_7) AppleWebKit/537.36 (KHTML, like Gecko) Chrome/98.0.4758.102 Safari/537.36',\n",
       " 'x-nba-stats-origin': 'stats',\n",
       " 'x-nba-stats-token': 'true'}"
      ]
     },
     "execution_count": 76,
     "metadata": {},
     "output_type": "execute_result"
    }
   ],
   "source": [
    "m.__dict__"
   ]
  },
  {
   "cell_type": "code",
   "execution_count": null,
   "id": "83943863",
   "metadata": {},
   "outputs": [],
   "source": []
  },
  {
   "cell_type": "code",
   "execution_count": null,
   "id": "925fe070",
   "metadata": {},
   "outputs": [],
   "source": []
  },
  {
   "cell_type": "code",
   "execution_count": null,
   "id": "8730c0c3",
   "metadata": {},
   "outputs": [],
   "source": []
  },
  {
   "cell_type": "code",
   "execution_count": null,
   "id": "ae930710",
   "metadata": {},
   "outputs": [],
   "source": []
  }
 ],
 "metadata": {
  "kernelspec": {
   "display_name": "Python [conda env:base_python310]",
   "language": "python",
   "name": "conda-env-base_python310-py"
  },
  "language_info": {
   "codemirror_mode": {
    "name": "ipython",
    "version": 3
   },
   "file_extension": ".py",
   "mimetype": "text/x-python",
   "name": "python",
   "nbconvert_exporter": "python",
   "pygments_lexer": "ipython3",
   "version": "3.10.4"
  }
 },
 "nbformat": 4,
 "nbformat_minor": 5
}
